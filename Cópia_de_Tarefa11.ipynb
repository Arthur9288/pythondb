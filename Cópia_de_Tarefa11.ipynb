{
  "nbformat": 4,
  "nbformat_minor": 0,
  "metadata": {
    "colab": {
      "provenance": []
    },
    "kernelspec": {
      "name": "python3",
      "display_name": "Python 3"
    },
    "language_info": {
      "name": "python"
    }
  },
  "cells": [
    {
      "cell_type": "markdown",
      "source": [
        "Arthur Silva Rodrigues"
      ],
      "metadata": {
        "id": "7zTz7WHPVtBx"
      }
    },
    {
      "cell_type": "markdown",
      "source": [
        "# Tarefa\n",
        "\n",
        "- Escreva um notebook para resolver os  problemas abaixo.\n",
        "\n",
        "- Colocar o seu nome na primeira célula do Notebook.\n",
        "\n",
        "- O notebook deve estar com texto explicando o Notebook. Caso não tenha texto explicativo, será descontada nota.\n",
        "\n",
        "- Entregue a tarefa no Google Sala de Aula na tarefa correspondente.\n",
        "\n",
        "- A tarefa deve ser feita de forma individual.\n",
        "\n",
        "- Qualquer gráfico que eventualmente seja feito deve ter seus eixos nomeados,  com unidades."
      ],
      "metadata": {
        "id": "rgO5kOsV6euV"
      }
    },
    {
      "cell_type": "markdown",
      "source": [
        "**1)** O n-ésimo número triangular $T_n$ é dfinido como:\n",
        "\n",
        "$$T_n = \\displaystyle\\sum_{k=1}^n k = 1 + 2 + 3+...+ n$$\n",
        "\n",
        "Faça um programa que mostre na tela os primeiros 100 números triangulares."
      ],
      "metadata": {
        "id": "I4Kqv3J0-w-y"
      }
    },
    {
      "cell_type": "code",
      "source": [
        "# n-ésimo número\n",
        "n = 100\n",
        "T = 0\n",
        "for i in range(1, n+1):\n",
        "    T = i * (i + 1) // 2\n",
        "    print(f\"Triangulae {i} = {T}\")"
      ],
      "metadata": {
        "id": "kU5NaFG3-7wn",
        "outputId": "79a873c0-d229-45c1-f065-8ad8e3bd1d6a",
        "colab": {
          "base_uri": "https://localhost:8080/"
        }
      },
      "execution_count": null,
      "outputs": [
        {
          "output_type": "stream",
          "name": "stdout",
          "text": [
            "Triangulae 1 = 1\n",
            "Triangulae 2 = 3\n",
            "Triangulae 3 = 6\n",
            "Triangulae 4 = 10\n",
            "Triangulae 5 = 15\n",
            "Triangulae 6 = 21\n",
            "Triangulae 7 = 28\n",
            "Triangulae 8 = 36\n",
            "Triangulae 9 = 45\n",
            "Triangulae 10 = 55\n",
            "Triangulae 11 = 66\n",
            "Triangulae 12 = 78\n",
            "Triangulae 13 = 91\n",
            "Triangulae 14 = 105\n",
            "Triangulae 15 = 120\n",
            "Triangulae 16 = 136\n",
            "Triangulae 17 = 153\n",
            "Triangulae 18 = 171\n",
            "Triangulae 19 = 190\n",
            "Triangulae 20 = 210\n",
            "Triangulae 21 = 231\n",
            "Triangulae 22 = 253\n",
            "Triangulae 23 = 276\n",
            "Triangulae 24 = 300\n",
            "Triangulae 25 = 325\n",
            "Triangulae 26 = 351\n",
            "Triangulae 27 = 378\n",
            "Triangulae 28 = 406\n",
            "Triangulae 29 = 435\n",
            "Triangulae 30 = 465\n",
            "Triangulae 31 = 496\n",
            "Triangulae 32 = 528\n",
            "Triangulae 33 = 561\n",
            "Triangulae 34 = 595\n",
            "Triangulae 35 = 630\n",
            "Triangulae 36 = 666\n",
            "Triangulae 37 = 703\n",
            "Triangulae 38 = 741\n",
            "Triangulae 39 = 780\n",
            "Triangulae 40 = 820\n",
            "Triangulae 41 = 861\n",
            "Triangulae 42 = 903\n",
            "Triangulae 43 = 946\n",
            "Triangulae 44 = 990\n",
            "Triangulae 45 = 1035\n",
            "Triangulae 46 = 1081\n",
            "Triangulae 47 = 1128\n",
            "Triangulae 48 = 1176\n",
            "Triangulae 49 = 1225\n",
            "Triangulae 50 = 1275\n",
            "Triangulae 51 = 1326\n",
            "Triangulae 52 = 1378\n",
            "Triangulae 53 = 1431\n",
            "Triangulae 54 = 1485\n",
            "Triangulae 55 = 1540\n",
            "Triangulae 56 = 1596\n",
            "Triangulae 57 = 1653\n",
            "Triangulae 58 = 1711\n",
            "Triangulae 59 = 1770\n",
            "Triangulae 60 = 1830\n",
            "Triangulae 61 = 1891\n",
            "Triangulae 62 = 1953\n",
            "Triangulae 63 = 2016\n",
            "Triangulae 64 = 2080\n",
            "Triangulae 65 = 2145\n",
            "Triangulae 66 = 2211\n",
            "Triangulae 67 = 2278\n",
            "Triangulae 68 = 2346\n",
            "Triangulae 69 = 2415\n",
            "Triangulae 70 = 2485\n",
            "Triangulae 71 = 2556\n",
            "Triangulae 72 = 2628\n",
            "Triangulae 73 = 2701\n",
            "Triangulae 74 = 2775\n",
            "Triangulae 75 = 2850\n",
            "Triangulae 76 = 2926\n",
            "Triangulae 77 = 3003\n",
            "Triangulae 78 = 3081\n",
            "Triangulae 79 = 3160\n",
            "Triangulae 80 = 3240\n",
            "Triangulae 81 = 3321\n",
            "Triangulae 82 = 3403\n",
            "Triangulae 83 = 3486\n",
            "Triangulae 84 = 3570\n",
            "Triangulae 85 = 3655\n",
            "Triangulae 86 = 3741\n",
            "Triangulae 87 = 3828\n",
            "Triangulae 88 = 3916\n",
            "Triangulae 89 = 4005\n",
            "Triangulae 90 = 4095\n",
            "Triangulae 91 = 4186\n",
            "Triangulae 92 = 4278\n",
            "Triangulae 93 = 4371\n",
            "Triangulae 94 = 4465\n",
            "Triangulae 95 = 4560\n",
            "Triangulae 96 = 4656\n",
            "Triangulae 97 = 4753\n",
            "Triangulae 98 = 4851\n",
            "Triangulae 99 = 4950\n",
            "Triangulae 100 = 5050\n"
          ]
        }
      ]
    },
    {
      "cell_type": "markdown",
      "source": [
        "**2)** O número de Euler pode ser aproximado pela seguinte somatória:\n",
        "\n",
        "$$e \\approx \\frac{1}{0!} +  \\frac{1}{1!} + \\frac{1}{2!}+ \\frac{1}{3!}+ \\frac{1}{4!}+...$$\n",
        "\n",
        "Dica: para calcular o fatorial de um número inteiro utilize a função da biblioteca `math`, `math.factorial`. Use `import math` para carregar a biblioteca math."
      ],
      "metadata": {
        "id": "uMTDueWDAY5T"
      }
    },
    {
      "cell_type": "code",
      "source": [
        "import math\n",
        "e = 0\n",
        "for i in range(100):\n",
        "    e += 1 / math.factorial(i)\n",
        "print(e)"
      ],
      "metadata": {
        "id": "jRCDFvOECnta",
        "outputId": "495425c9-01b0-4924-d135-52d37ef22ea5",
        "colab": {
          "base_uri": "https://localhost:8080/"
        }
      },
      "execution_count": null,
      "outputs": [
        {
          "output_type": "stream",
          "name": "stdout",
          "text": [
            "2.7182818284590455\n"
          ]
        }
      ]
    },
    {
      "cell_type": "markdown",
      "source": [
        "**3)** Uma série, iniciada pelo número $n$, segue a seguinte regra:\n",
        "\n",
        "- se $n$ for par, o próximo número $n$ da série é $n/2$.\n",
        "\n",
        "- se $n$ for ímpar, o próximo número $n$ da série é $3n+1$.\n",
        "\n",
        "Esse processo se repete enquanto n for diferente de 1.\n",
        "\n",
        "Como exemplo, essa série quando começa de $n = 3$ é:\n",
        "\n",
        "3, 10, 5, 16, 8, 4, 2, 1\n",
        "\n",
        "Faça um programa que calcule e mostre os números da série começando de a) $n = 3$, b) $n=7$, c) $n = 9$ e d) $n = 14$.\n",
        "\n",
        "Se quiser saber mais sobre essa série, veja [esse vídeo](https://www.youtube.com/watch?v=094y1Z2wpJg&embeds_referring_euri=https%3A%2F%2Fwww.bing.com%2F&embeds_referring_origin=https%3A%2F%2Fwww.bing.com&source_ve_path=MjM4NTE)."
      ],
      "metadata": {
        "id": "YNHzEx8dCA3r"
      }
    },
    {
      "cell_type": "code",
      "source": [
        "for n in [3, 7, 9, 14]:\n",
        "  print(f\"Séries n = {n}\")\n",
        "  while n != 1:\n",
        "      if n % 2 == 0:\n",
        "          n = n // 2\n",
        "      else:\n",
        "          n = 3 * n + 1\n",
        "      print(n)"
      ],
      "metadata": {
        "id": "nqkJzwDJOa_b",
        "outputId": "307f7ed3-97e6-4eee-c4cb-873bb604ed3f",
        "colab": {
          "base_uri": "https://localhost:8080/"
        }
      },
      "execution_count": null,
      "outputs": [
        {
          "output_type": "stream",
          "name": "stdout",
          "text": [
            "Séries n = 3\n",
            "10\n",
            "5\n",
            "16\n",
            "8\n",
            "4\n",
            "2\n",
            "1\n",
            "Séries n = 7\n",
            "22\n",
            "11\n",
            "34\n",
            "17\n",
            "52\n",
            "26\n",
            "13\n",
            "40\n",
            "20\n",
            "10\n",
            "5\n",
            "16\n",
            "8\n",
            "4\n",
            "2\n",
            "1\n",
            "Séries n = 9\n",
            "28\n",
            "14\n",
            "7\n",
            "22\n",
            "11\n",
            "34\n",
            "17\n",
            "52\n",
            "26\n",
            "13\n",
            "40\n",
            "20\n",
            "10\n",
            "5\n",
            "16\n",
            "8\n",
            "4\n",
            "2\n",
            "1\n",
            "Séries n = 14\n",
            "7\n",
            "22\n",
            "11\n",
            "34\n",
            "17\n",
            "52\n",
            "26\n",
            "13\n",
            "40\n",
            "20\n",
            "10\n",
            "5\n",
            "16\n",
            "8\n",
            "4\n",
            "2\n",
            "1\n"
          ]
        }
      ]
    }
  ]
}