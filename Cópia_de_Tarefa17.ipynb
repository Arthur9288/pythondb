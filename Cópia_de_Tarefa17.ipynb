{
  "nbformat": 4,
  "nbformat_minor": 0,
  "metadata": {
    "colab": {
      "provenance": []
    },
    "kernelspec": {
      "name": "python3",
      "display_name": "Python 3"
    },
    "language_info": {
      "name": "python"
    }
  },
  "cells": [
    {
      "cell_type": "markdown",
      "source": [
        "Arthur Silva Rodrigues"
      ],
      "metadata": {
        "id": "Gw0lcosHJGU4"
      }
    },
    {
      "cell_type": "markdown",
      "source": [
        "# Tarefa\n",
        "\n",
        "- Escreva um notebook para resolver os problemas abaixo.\n",
        "\n",
        "- Colocar o seu nome na primeira célula do Notebook.\n",
        "\n",
        "- O notebook deve estar com texto explicando o Notebook. Caso não tenha texto explicativo, será descontada nota.\n",
        "\n",
        "- Entregue a tarefa no Google Sala de Aula na tarefa correspondente.\n",
        "\n",
        "- A tarefa deve ser feita de forma individual.\n",
        "\n",
        "- Qualquer gráfico que eventualmente seja feito deve ter seus eixos nomeados,  com unidades.\n",
        "\n",
        "- Qualquer função feita deve ter a sua documentação.\n",
        "\n",
        "- Sempre que for possível, não se deve repetir trechos de código."
      ],
      "metadata": {
        "id": "0fLKUYh8F-FA"
      }
    },
    {
      "cell_type": "markdown",
      "source": [
        "**1)** A função abaixo desenha um quadrado com lado `l` e centro com coordenadas `x` e `y` na imagem `image`.\n",
        "\n",
        "```\n",
        "def quadrado(l, x, y, image):\n",
        "  '''\n",
        "  Desenha um quadrado de lado l com matplotlib na imagem image.\n",
        "  x e y são as coordenadas do centro do quadrado\n",
        "  '''\n",
        "  import numpy as np  \n",
        "  image[x-l//2:x+l//2,y-l//2] = 0\n",
        "  image[x-l//2:x+l//2,y+l//2] = 0\n",
        "  image[x+l//2,y-l//2:y+l//2] = 0\n",
        "  image[x-l//2,y-l//2:y+l//2] = 0\n",
        "  \n",
        "  return image\n",
        "```\n",
        "\n",
        "Escreva um código computacional que gere a seguinte imagem:\n",
        "\n",
        "![image.png](data:image/png;base64,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)\n",
        "\n",
        "Para gerar uma imagem em branco utilize a seguinte linha:\n",
        "\n",
        "`imagem = 255*np.ones((1000,1000))`\n",
        "\n",
        "Para mostrar uma imagem usando a biblioteca `matplotlib`, utilize:\n",
        "\n",
        "`plt.imshow(imagem)`\n",
        "\n",
        "Para esta tarefa, você deve obrigatoriamente utilizar a função dada.\n",
        "\n",
        "Obs: A imagem gerada não precisa ser idêntica, basta ser parecida."
      ],
      "metadata": {
        "id": "XabU33C_ONBz"
      }
    },
    {
      "cell_type": "code",
      "source": [
        "import matplotlib.pyplot as plt\n",
        "import numpy as np"
      ],
      "metadata": {
        "id": "N4ncTWtTFw-Z"
      },
      "execution_count": null,
      "outputs": []
    },
    {
      "cell_type": "code",
      "source": [
        "def quadrado(l, x, y, image):\n",
        "  '''\n",
        "  Desenha um quadrado de lado l com matplotlib na imagem image.\n",
        "  x e y são as coordenadas do centro do quadrado\n",
        "  '''\n",
        "  import numpy as np\n",
        "  image[x-l//2:x+l//2,y-l//2] = 0\n",
        "  image[x-l//2:x+l//2,y+l//2] = 0\n",
        "  image[x+l//2,y-l//2:y+l//2] = 0\n",
        "  image[x-l//2,y-l//2:y+l//2] = 0\n",
        "\n",
        "  return image\n",
        "imagem = 255*np.ones((1000,1000))\n",
        "for i in range(1, 12):\n",
        "  lado = i*1000//12\n",
        "  imagem = quadrado(lado, 500, 500, imagem)\n",
        "\n",
        "plt.imshow(imagem)\n"
      ],
      "metadata": {
        "id": "4wSMyz46FRVX",
        "outputId": "3c6e716b-13d3-4800-a246-1314db8011e0",
        "colab": {
          "base_uri": "https://localhost:8080/",
          "height": 452
        }
      },
      "execution_count": null,
      "outputs": [
        {
          "output_type": "execute_result",
          "data": {
            "text/plain": [
              "<matplotlib.image.AxesImage at 0x7e6d6e7336d0>"
            ]
          },
          "metadata": {},
          "execution_count": 2
        },
        {
          "output_type": "display_data",
          "data": {
            "text/plain": [
              "<Figure size 640x480 with 1 Axes>"
            ],
            "image/png": "[encoded data removed]"
          },
          "metadata": {}
        }
      ]
    },
    {
      "cell_type": "markdown",
      "source": [
        "**2)** Nos seguintes endereços se encontram arquivos com as tabelas que contém o desempenho dos jogadores de quatro equipes nos seis jogos do grupo B do torneio de basquete masculino dos Jogos Olímpicos de Paris 2024:\n",
        "\n",
        "https://raw.githubusercontent.com/BMClab/BasesComputacionais/master/dados/alemanha_japao_olympics2024.csv, https://raw.githubusercontent.com/BMClab/BasesComputacionais/master/dados/brasil_alemanha_olympics2024.csv, https://raw.githubusercontent.com/BMClab/BasesComputacionais/master/dados/franca_alemanha_olympics2024.csv, https://raw.githubusercontent.com/BMClab/BasesComputacionais/master/dados/japao_brasil_olympics2024.csv, https://raw.githubusercontent.com/BMClab/BasesComputacionais/master/dados/japao_franca_olympics2024.csv, https://raw.githubusercontent.com/BMClab/BasesComputacionais/master/dados/franca_brasil_olympics2024.csv\n",
        "\n",
        "Você deve fazer uma função que calcule quantos pontos com a bola viva cada time fez em cada jogo. São considerados pontos com a bola viva os pontos vindos das cestas de 2 pontos e de 3 pontos (são desprezados os lances livres). A quantidade de cestas de 2 pontos e de 3 pontos estão nas colunas '2PT FG' e '3PT FG', respectivamente. Como exemplo, se um jogador fez 4 cestas de 2 pontos e 3 cestas de 3 pontos, ele fez 4x2+3x3 = 17 pontos com a bola viva. Esta função deve receber como entrada o endereço do arquivo com os dados de um jogo e retornar quantos pontos com a bola viva cada um dos times fez naquele jogo. Mostrar os resultados para os seis jogos.\n"
      ],
      "metadata": {
        "id": "lZxaId6Hv8TV"
      }
    },
    {
      "cell_type": "code",
      "source": [
        "import pandas as pd\n",
        "\n",
        "def calcular_pontos_bola_viva(url):\n",
        "    # ler o arquivo csv\n",
        "    df = pd.read_csv(url)\n",
        "\n",
        "    # Calcular os pontos com a bola viva\n",
        "    df['Pontos com Bola Viva'] = df['2PT FG'] * 2 + df['3PT FG'] * 3\n",
        "\n",
        "    # juntar por time\n",
        "    pontos_por_time = df.groupby('Team')['Pontos com Bola Viva'].sum()\n",
        "\n",
        "    return pontos_por_time\n",
        "\n",
        "# URLs dos arquivos CSV\n",
        "urls = [\n",
        "    \"https://raw.githubusercontent.com/BMClab/BasesComputacionais/master/dados/alemanha_japao_olympics2024.csv\",\n",
        "    \"https://raw.githubusercontent.com/BMClab/BasesComputacionais/master/dados/brasil_alemanha_olympics2024.csv\",\n",
        "    \"https://raw.githubusercontent.com/BMClab/BasesComputacionais/master/dados/franca_alemanha_olympics2024.csv\",\n",
        "    \"https://raw.githubusercontent.com/BMClab/BasesComputacionais/master/dados/japao_brasil_olympics2024.csv\",\n",
        "    \"https://raw.githubusercontent.com/BMClab/BasesComputacionais/master/dados/japao_franca_olympics2024.csv\",\n",
        "    \"https://raw.githubusercontent.com/BMClab/BasesComputacionais/master/dados/franca_brasil_olympics2024.csv\"\n",
        "]\n",
        "\n",
        "# Processar os arquivos e mostrar os resultados\n",
        "for url in urls:\n",
        "    pontos = calcular_pontos_bola_viva(url)\n",
        "    print(f\"Resultados para o arquivo: {url}\")\n",
        "    print(pontos)\n",
        "    print()"
      ],
      "metadata": {
        "id": "hkgsmQLhMSM5",
        "outputId": "da8751c4-946d-4d16-ad00-a1a22fe5d577",
        "colab": {
          "base_uri": "https://localhost:8080/"
        }
      },
      "execution_count": 1,
      "outputs": [
        {
          "output_type": "stream",
          "name": "stdout",
          "text": [
            "Resultados para o arquivo: https://raw.githubusercontent.com/BMClab/BasesComputacionais/master/dados/alemanha_japao_olympics2024.csv\n",
            "Team\n",
            "Germany    87\n",
            "Japan      60\n",
            "Name: Pontos com Bola Viva, dtype: int64\n",
            "\n",
            "Resultados para o arquivo: https://raw.githubusercontent.com/BMClab/BasesComputacionais/master/dados/brasil_alemanha_olympics2024.csv\n",
            "Team\n",
            "Brazil     62\n",
            "Germany    72\n",
            "Name: Pontos com Bola Viva, dtype: int64\n",
            "\n",
            "Resultados para o arquivo: https://raw.githubusercontent.com/BMClab/BasesComputacionais/master/dados/franca_alemanha_olympics2024.csv\n",
            "Team\n",
            "France     59\n",
            "Germany    70\n",
            "Name: Pontos com Bola Viva, dtype: int64\n",
            "\n",
            "Resultados para o arquivo: https://raw.githubusercontent.com/BMClab/BasesComputacionais/master/dados/japao_brasil_olympics2024.csv\n",
            "Team\n",
            "Brazil    93\n",
            "Japan     76\n",
            "Name: Pontos com Bola Viva, dtype: int64\n",
            "\n",
            "Resultados para o arquivo: https://raw.githubusercontent.com/BMClab/BasesComputacionais/master/dados/japao_franca_olympics2024.csv\n",
            "Team\n",
            "France    83\n",
            "Japan     78\n",
            "Name: Pontos com Bola Viva, dtype: int64\n",
            "\n",
            "Resultados para o arquivo: https://raw.githubusercontent.com/BMClab/BasesComputacionais/master/dados/franca_brasil_olympics2024.csv\n",
            "Team\n",
            "Brazil    53\n",
            "France    60\n",
            "Name: Pontos com Bola Viva, dtype: int64\n",
            "\n"
          ]
        }
      ]
    }
  ]
}