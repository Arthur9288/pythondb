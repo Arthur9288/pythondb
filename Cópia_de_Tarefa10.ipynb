{
  "nbformat": 4,
  "nbformat_minor": 0,
  "metadata": {
    "colab": {
      "provenance": []
    },
    "kernelspec": {
      "name": "python3",
      "display_name": "Python 3"
    },
    "language_info": {
      "name": "python"
    }
  },
  "cells": [
    {
      "cell_type": "markdown",
      "source": [
        "Arthur Silva Rodrigues"
      ],
      "metadata": {
        "id": "BKWESuKa4qFb"
      }
    },
    {
      "cell_type": "markdown",
      "source": [
        "**1)** Faça a aproximação de $\\pi$ usando a fórmula de Leibniz:\n",
        "\n",
        "$$\\pi \\approx 4 - \\frac{4}{3} + \\frac{4}{5} - \\frac{4}{7} + \\frac{4}{9}+...$$\n",
        "\n",
        "Calcule (e mostre na tela) a aproximação de $\\pi$ considerando a) 50 termos, b) 500 termos, c) 1000 termos e d) 10000 termos.\n",
        "\n",
        "Dica: Note que o sinal do termo muda a cada termo. Talvez verificar se o $i$ é par ou ímpar ajude a decidir se para aquele i o sinal é mais ou menos."
      ],
      "metadata": {
        "id": "OPi4UXOrzBE5"
      }
    },
    {
      "cell_type": "markdown",
      "source": [
        "# Tarefa\n",
        "\n",
        "- Escreva um notebook para resolver os  problemas abaixo.\n",
        "\n",
        "- Colocar o seu nome na primeira célula do Notebook.\n",
        "\n",
        "- O notebook deve estar com texto explicando o Notebook. Caso não tenha texto explicativo, será descontada nota.\n",
        "\n",
        "- Entregue a tarefa no Google Sala de Aula na tarefa correspondente.\n",
        "\n",
        "- A tarefa deve ser feita de forma individual.\n",
        "\n",
        "- Qualquer gráfico que eventualmente seja feito deve ter seus eixos nomeados,  com unidades."
      ],
      "metadata": {
        "id": "5cVpukqOyEuh"
      }
    },
    {
      "cell_type": "code",
      "source": [
        "#aproximação de  π  considerando a) 50 termos, b) 500 termos, c) 1000 termos e d) 10000 termos.\n",
        "\n",
        "#definir variaveis\n",
        "x = 0\n",
        "array = [50, 500, 1000, 10000]\n",
        "\n",
        "\n",
        "for i in array:\n",
        "  #para cada termo\n",
        "  for j in range(0, i, 1):\n",
        "      #condição para saber se é par ou impar\n",
        "      if j%2==0:\n",
        "        x += 4/(2*j+1)\n",
        "      else:\n",
        "        x -= 4/(2*j+1)\n",
        "\n",
        "  print('A aproximação de π para ' + str(i) + ' termos é: ' + str(x))\n",
        "  #zerar variavel para proxima iteração\n",
        "  x = 0\n",
        "\n"
      ],
      "metadata": {
        "id": "AJFUxSHEzboI",
        "colab": {
          "base_uri": "https://localhost:8080/"
        },
        "outputId": "0d4151df-1b26-4bb5-dc44-88213caeacdb"
      },
      "execution_count": null,
      "outputs": [
        {
          "output_type": "stream",
          "name": "stdout",
          "text": [
            "A aproximação de π para 50 termos é: 3.121594652591011\n",
            "A aproximação de π para 500 termos é: 3.139592655589785\n",
            "A aproximação de π para 1000 termos é: 3.140592653839794\n",
            "A aproximação de π para 10000 termos é: 3.1414926535900345\n"
          ]
        }
      ]
    },
    {
      "cell_type": "code",
      "source": [],
      "metadata": {
        "id": "0WFstLyc2_cB"
      },
      "execution_count": null,
      "outputs": []
    }
  ]
}